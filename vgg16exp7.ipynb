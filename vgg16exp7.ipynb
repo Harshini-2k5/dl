{
  "nbformat": 4,
  "nbformat_minor": 0,
  "metadata": {
    "colab": {
      "provenance": [],
      "authorship_tag": "ABX9TyP7zp5ClM+0vRMiltIX8AE6",
      "include_colab_link": true
    },
    "kernelspec": {
      "name": "python3",
      "display_name": "Python 3"
    },
    "language_info": {
      "name": "python"
    }
  },
  "cells": [
    {
      "cell_type": "markdown",
      "metadata": {
        "id": "view-in-github",
        "colab_type": "text"
      },
      "source": [
        "<a href=\"https://colab.research.google.com/github/Harshini-2k5/dl/blob/main/vgg16exp7.ipynb\" target=\"_parent\"><img src=\"https://colab.research.google.com/assets/colab-badge.svg\" alt=\"Open In Colab\"/></a>"
      ]
    },
    {
      "cell_type": "code",
      "source": [
        "import tensorflow as tf\n",
        "import tensorflow_datasets as tfds\n",
        "import numpy as np\n",
        "import matplotlib.pyplot as plt\n",
        "dataset_name = \"cats_vs_dogs\"\n",
        "dataset, info = tfds.load(dataset_name, as_supervised=True, with_info=True)\n",
        "train_data = dataset['train'].take(5000)\n",
        "val_data = dataset['train'].skip(5000).take(1000)"
      ],
      "metadata": {
        "id": "KTevtw9hJPPF"
      },
      "execution_count": 1,
      "outputs": []
    },
    {
      "cell_type": "code",
      "source": [
        "def preprocess(image, label):\n",
        "    image = tf.image.resize_with_pad(image, 224, 224)\n",
        "    image = image / 255.0\n",
        "    return image, label\n",
        "train_data = train_data.map(preprocess).batch(128).shuffle(1000)\n",
        "val_data = val_data.map(preprocess).batch(128)\n",
        "base_model = tf.keras.applications.VGG16(input_shape=(224, 224, 3),include_top=False, weights='imagenet')\n",
        "base_model.trainable = False\n",
        "model = tf.keras.Sequential([base_model,\n",
        "    tf.keras.layers.Flatten(),\n",
        "    tf.keras.layers.Dense(256, activation='relu'),\n",
        "    tf.keras.layers.Dropout(0.5),\n",
        "    tf.keras.layers.Dense(1, activation='sigmoid')\n",
        "])"
      ],
      "metadata": {
        "id": "za6YMWyWKURW"
      },
      "execution_count": 2,
      "outputs": []
    },
    {
      "cell_type": "code",
      "source": [
        "model.compile(optimizer='adam', loss='binary_crossentropy', metrics=['accuracy'])\n",
        "history = model.fit(train_data, validation_data=val_data, epochs=3)\n",
        "loss, acc = model.evaluate(val_data)\n",
        "print(f\"\\nValidation Accuracy: {acc * 100:.2f}%\")\n",
        "def show_prediction():\n",
        "    image, label = next(iter(val_data))\n",
        "    img = image[0].numpy()\n",
        "    true_label = label[0].numpy()\n",
        "\n",
        "    prediction = model.predict(tf.expand_dims(image[0], axis=0))\n",
        "    predicted_label = \"Dog\" if prediction[0][0] > 0.5 else \"Cat\"\n",
        "    plt.imshow(img)\n",
        "    plt.title(f\"Predicted: {predicted_label}, Actual: {'Dog' if true_label else 'Cat'}\")\n",
        "    plt.axis(\"off\")\n",
        "    plt.show()\n",
        "\n",
        "show_prediction()"
      ],
      "metadata": {
        "colab": {
          "base_uri": "https://localhost:8080/"
        },
        "id": "eOydoAm6Kx6O",
        "outputId": "6e64db6b-e072-4916-dff2-399c5dfd280a"
      },
      "execution_count": null,
      "outputs": [
        {
          "output_type": "stream",
          "name": "stdout",
          "text": [
            "Epoch 1/3\n",
            "\u001b[1m40/40\u001b[0m \u001b[32m━━━━━━━━━━━━━━━━━━━━\u001b[0m\u001b[37m\u001b[0m \u001b[1m2491s\u001b[0m 62s/step - accuracy: 0.6930 - loss: 1.4113 - val_accuracy: 0.9040 - val_loss: 0.2326\n",
            "Epoch 2/3\n",
            "\u001b[1m35/40\u001b[0m \u001b[32m━━━━━━━━━━━━━━━━━\u001b[0m\u001b[37m━━━\u001b[0m \u001b[1m4:15\u001b[0m 51s/step - accuracy: 0.9010 - loss: 0.2339"
          ]
        }
      ]
    }
  ]
}